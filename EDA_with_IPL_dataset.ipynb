{
  "nbformat": 4,
  "nbformat_minor": 0,
  "metadata": {
    "colab": {
      "provenance": [],
      "include_colab_link": true
    },
    "kernelspec": {
      "name": "python3",
      "display_name": "Python 3"
    },
    "language_info": {
      "name": "python"
    }
  },
  "cells": [
    {
      "cell_type": "markdown",
      "metadata": {
        "id": "view-in-github",
        "colab_type": "text"
      },
      "source": [
        "<a href=\"https://colab.research.google.com/github/Carnage203/ML/blob/main/EDA_with_IPL_dataset.ipynb\" target=\"_parent\"><img src=\"https://colab.research.google.com/assets/colab-badge.svg\" alt=\"Open In Colab\"/></a>"
      ]
    },
    {
      "cell_type": "code",
      "execution_count": null,
      "metadata": {
        "id": "rd7PogNjo4CW"
      },
      "outputs": [],
      "source": [
        "import pandas as pd\n",
        "from matplotlib import pyplot as plt\n",
        "import seaborn as sns\n",
        "\n"
      ]
    },
    {
      "cell_type": "code",
      "source": [
        "ipl=pd.read_csv('ipl.csv')"
      ],
      "metadata": {
        "id": "q-BPCcxJ2C8y"
      },
      "execution_count": null,
      "outputs": []
    },
    {
      "cell_type": "code",
      "source": [
        "ipl.head()"
      ],
      "metadata": {
        "id": "FdajWbbb2VGf"
      },
      "execution_count": null,
      "outputs": []
    },
    {
      "cell_type": "code",
      "source": [
        "ipl.shape"
      ],
      "metadata": {
        "id": "qEYyItGk2b4N",
        "colab": {
          "base_uri": "https://localhost:8080/"
        },
        "outputId": "ccdc5911-ab0e-45af-e061-23f251921a75"
      },
      "execution_count": null,
      "outputs": [
        {
          "output_type": "execute_result",
          "data": {
            "text/plain": [
              "(74, 15)"
            ]
          },
          "metadata": {},
          "execution_count": 8
        }
      ]
    },
    {
      "cell_type": "code",
      "source": [
        "ipl['Player_of_Match'].value_counts()"
      ],
      "metadata": {
        "id": "eR6lZif_3IJq"
      },
      "execution_count": null,
      "outputs": []
    },
    {
      "cell_type": "code",
      "source": [
        "ipl['Player_of_Match'].value_counts()[0:5]"
      ],
      "metadata": {
        "id": "Vc8DEPL_3s9k",
        "colab": {
          "base_uri": "https://localhost:8080/"
        },
        "outputId": "3e2b8c8c-5dbb-4326-d77c-683b0dadc5f9"
      },
      "execution_count": null,
      "outputs": [
        {
          "output_type": "execute_result",
          "data": {
            "text/plain": [
              "Kuldeep Yadav    4\n",
              "JC Buttler       3\n",
              "HH Pandya        2\n",
              "KL Rahul         2\n",
              "YS Chahal        2\n",
              "Name: Player_of_Match, dtype: int64"
            ]
          },
          "metadata": {},
          "execution_count": 10
        }
      ]
    },
    {
      "cell_type": "code",
      "source": [
        "list(ipl['Player_of_Match'].value_counts()[0:5].keys())"
      ],
      "metadata": {
        "id": "-4x1MlPW4b8_",
        "colab": {
          "base_uri": "https://localhost:8080/"
        },
        "outputId": "a57fc882-1b70-4c2a-a3c9-37daac3b41d8"
      },
      "execution_count": null,
      "outputs": [
        {
          "output_type": "execute_result",
          "data": {
            "text/plain": [
              "['Kuldeep Yadav', 'JC Buttler', 'HH Pandya', 'KL Rahul', 'YS Chahal']"
            ]
          },
          "metadata": {},
          "execution_count": 11
        }
      ]
    },
    {
      "cell_type": "code",
      "source": [
        "plt.figure(figsize=(8,5))\n",
        "plt.bar(ipl['Player_of_Match'].value_counts()[0:5].keys(),ipl['Player_of_Match'].value_counts()[0:5])"
      ],
      "metadata": {
        "id": "ic-HkOls3516",
        "colab": {
          "base_uri": "https://localhost:8080/",
          "height": 337
        },
        "outputId": "e9b479c7-d2a3-43a6-de89-9e4039dd4bba"
      },
      "execution_count": null,
      "outputs": [
        {
          "output_type": "execute_result",
          "data": {
            "text/plain": [
              "<BarContainer object of 5 artists>"
            ]
          },
          "metadata": {},
          "execution_count": 14
        },
        {
          "output_type": "display_data",
          "data": {
            "text/plain": [
              "<Figure size 576x360 with 1 Axes>"
            ],
            "image/png": "[encoded data removed]"
          },
          "metadata": {
            "needs_background": "light"
          }
        }
      ]
    },
    {
      "cell_type": "code",
      "source": [
        "ipl['TossWinner'].value_counts()"
      ],
      "metadata": {
        "id": "MH6Ml83H472Q",
        "colab": {
          "base_uri": "https://localhost:8080/"
        },
        "outputId": "2df79a67-e6b4-4b25-e289-cfd3cc0fff5a"
      },
      "execution_count": null,
      "outputs": [
        {
          "output_type": "execute_result",
          "data": {
            "text/plain": [
              "Gujarat Titans                 10\n",
              "Sunrisers Hyderabad            10\n",
              "Mumbai Indians                  9\n",
              "Kolkata Knight Riders           8\n",
              "Royal Challengers Bangalore     8\n",
              "Delhi Capitals                  8\n",
              "Lucknow Super Giants            7\n",
              "Chennai Super Kings             6\n",
              "Rajasthan Royals                4\n",
              "Punjab Kings                    4\n",
              "Name: TossWinner, dtype: int64"
            ]
          },
          "metadata": {},
          "execution_count": 15
        }
      ]
    },
    {
      "cell_type": "code",
      "source": [
        "batting_first=ipl[ipl['WonBy']=='Runs']\n",
        "result=batting_first.sort_values(by=['Margin'],ascending=False)\n",
        "result.head()"
      ],
      "metadata": {
        "id": "qnFGkqcy5TSG",
        "colab": {
          "base_uri": "https://localhost:8080/",
          "height": 565
        },
        "outputId": "6a2ff7cb-62f4-4641-a04c-fd96f5cf97a8"
      },
      "execution_count": null,
      "outputs": [
        {
          "output_type": "execute_result",
          "data": {
            "text/plain": [
              "         ID         City        Date  Season MatchNumber  \\\n",
              "19  1304101  Navi Mumbai  08-05-2022    2022          55   \n",
              "21  1304099         Pune  07-05-2022    2022          53   \n",
              "20  1304100       Mumbai  08-05-2022    2022          54   \n",
              "17  1304103         Pune  10-05-2022    2022          57   \n",
              "69  1304051         Pune  29-03-2022    2022           5   \n",
              "\n",
              "                          Team1                  Team2  \\\n",
              "19          Chennai Super Kings         Delhi Capitals   \n",
              "21         Lucknow Super Giants  Kolkata Knight Riders   \n",
              "20  Royal Challengers Bangalore    Sunrisers Hyderabad   \n",
              "17               Gujarat Titans   Lucknow Super Giants   \n",
              "69             Rajasthan Royals    Sunrisers Hyderabad   \n",
              "\n",
              "                                            Venue  \\\n",
              "19             Dr DY Patil Sports Academy, Mumbai   \n",
              "21  Maharashtra Cricket Association Stadium, Pune   \n",
              "20                       Wankhede Stadium, Mumbai   \n",
              "17  Maharashtra Cricket Association Stadium, Pune   \n",
              "69  Maharashtra Cricket Association Stadium, Pune   \n",
              "\n",
              "                     TossWinner TossDecision SuperOver  \\\n",
              "19               Delhi Capitals        field         N   \n",
              "21        Kolkata Knight Riders        field         N   \n",
              "20  Royal Challengers Bangalore          bat         N   \n",
              "17               Gujarat Titans          bat         N   \n",
              "69          Sunrisers Hyderabad        field         N   \n",
              "\n",
              "                    WinningTeam WonBy  Margin Player_of_Match  \n",
              "19          Chennai Super Kings  Runs      91       DP Conway  \n",
              "21         Lucknow Super Giants  Runs      75      Avesh Khan  \n",
              "20  Royal Challengers Bangalore  Runs      67    PWH de Silva  \n",
              "17               Gujarat Titans  Runs      62    Shubman Gill  \n",
              "69             Rajasthan Royals  Runs      61       SV Samson  "
            ],
            "text/html": [
              "\n",
              "  <div id=\"df-9813f532-76e1-449e-b5c2-74ed32566cbb\">\n",
              "    <div class=\"colab-df-container\">\n",
              "      <div>\n",
              "<style scoped>\n",
              "    .dataframe tbody tr th:only-of-type {\n",
              "        vertical-align: middle;\n",
              "    }\n",
              "\n",
              "    .dataframe tbody tr th {\n",
              "        vertical-align: top;\n",
              "    }\n",
              "\n",
              "    .dataframe thead th {\n",
              "        text-align: right;\n",
              "    }\n",
              "</style>\n",
              "<table border=\"1\" class=\"dataframe\">\n",
              "  <thead>\n",
              "    <tr style=\"text-align: right;\">\n",
              "      <th></th>\n",
              "      <th>ID</th>\n",
              "      <th>City</th>\n",
              "      <th>Date</th>\n",
              "      <th>Season</th>\n",
              "      <th>MatchNumber</th>\n",
              "      <th>Team1</th>\n",
              "      <th>Team2</th>\n",
              "      <th>Venue</th>\n",
              "      <th>TossWinner</th>\n",
              "      <th>TossDecision</th>\n",
              "      <th>SuperOver</th>\n",
              "      <th>WinningTeam</th>\n",
              "      <th>WonBy</th>\n",
              "      <th>Margin</th>\n",
              "      <th>Player_of_Match</th>\n",
              "    </tr>\n",
              "  </thead>\n",
              "  <tbody>\n",
              "    <tr>\n",
              "      <th>19</th>\n",
              "      <td>1304101</td>\n",
              "      <td>Navi Mumbai</td>\n",
              "      <td>08-05-2022</td>\n",
              "      <td>2022</td>\n",
              "      <td>55</td>\n",
              "      <td>Chennai Super Kings</td>\n",
              "      <td>Delhi Capitals</td>\n",
              "      <td>Dr DY Patil Sports Academy, Mumbai</td>\n",
              "      <td>Delhi Capitals</td>\n",
              "      <td>field</td>\n",
              "      <td>N</td>\n",
              "      <td>Chennai Super Kings</td>\n",
              "      <td>Runs</td>\n",
              "      <td>91</td>\n",
              "      <td>DP Conway</td>\n",
              "    </tr>\n",
              "    <tr>\n",
              "      <th>21</th>\n",
              "      <td>1304099</td>\n",
              "      <td>Pune</td>\n",
              "      <td>07-05-2022</td>\n",
              "      <td>2022</td>\n",
              "      <td>53</td>\n",
              "      <td>Lucknow Super Giants</td>\n",
              "      <td>Kolkata Knight Riders</td>\n",
              "      <td>Maharashtra Cricket Association Stadium, Pune</td>\n",
              "      <td>Kolkata Knight Riders</td>\n",
              "      <td>field</td>\n",
              "      <td>N</td>\n",
              "      <td>Lucknow Super Giants</td>\n",
              "      <td>Runs</td>\n",
              "      <td>75</td>\n",
              "      <td>Avesh Khan</td>\n",
              "    </tr>\n",
              "    <tr>\n",
              "      <th>20</th>\n",
              "      <td>1304100</td>\n",
              "      <td>Mumbai</td>\n",
              "      <td>08-05-2022</td>\n",
              "      <td>2022</td>\n",
              "      <td>54</td>\n",
              "      <td>Royal Challengers Bangalore</td>\n",
              "      <td>Sunrisers Hyderabad</td>\n",
              "      <td>Wankhede Stadium, Mumbai</td>\n",
              "      <td>Royal Challengers Bangalore</td>\n",
              "      <td>bat</td>\n",
              "      <td>N</td>\n",
              "      <td>Royal Challengers Bangalore</td>\n",
              "      <td>Runs</td>\n",
              "      <td>67</td>\n",
              "      <td>PWH de Silva</td>\n",
              "    </tr>\n",
              "    <tr>\n",
              "      <th>17</th>\n",
              "      <td>1304103</td>\n",
              "      <td>Pune</td>\n",
              "      <td>10-05-2022</td>\n",
              "      <td>2022</td>\n",
              "      <td>57</td>\n",
              "      <td>Gujarat Titans</td>\n",
              "      <td>Lucknow Super Giants</td>\n",
              "      <td>Maharashtra Cricket Association Stadium, Pune</td>\n",
              "      <td>Gujarat Titans</td>\n",
              "      <td>bat</td>\n",
              "      <td>N</td>\n",
              "      <td>Gujarat Titans</td>\n",
              "      <td>Runs</td>\n",
              "      <td>62</td>\n",
              "      <td>Shubman Gill</td>\n",
              "    </tr>\n",
              "    <tr>\n",
              "      <th>69</th>\n",
              "      <td>1304051</td>\n",
              "      <td>Pune</td>\n",
              "      <td>29-03-2022</td>\n",
              "      <td>2022</td>\n",
              "      <td>5</td>\n",
              "      <td>Rajasthan Royals</td>\n",
              "      <td>Sunrisers Hyderabad</td>\n",
              "      <td>Maharashtra Cricket Association Stadium, Pune</td>\n",
              "      <td>Sunrisers Hyderabad</td>\n",
              "      <td>field</td>\n",
              "      <td>N</td>\n",
              "      <td>Rajasthan Royals</td>\n",
              "      <td>Runs</td>\n",
              "      <td>61</td>\n",
              "      <td>SV Samson</td>\n",
              "    </tr>\n",
              "  </tbody>\n",
              "</table>\n",
              "</div>\n",
              "      <button class=\"colab-df-convert\" onclick=\"convertToInteractive('df-9813f532-76e1-449e-b5c2-74ed32566cbb')\"\n",
              "              title=\"Convert this dataframe to an interactive table.\"\n",
              "              style=\"display:none;\">\n",
              "        \n",
              "  <svg xmlns=\"http://www.w3.org/2000/svg\" height=\"24px\"viewBox=\"0 0 24 24\"\n",
              "       width=\"24px\">\n",
              "    <path d=\"M0 0h24v24H0V0z\" fill=\"none\"/>\n",
              "    <path d=\"M18.56 5.44l.94 2.06.94-2.06 2.06-.94-2.06-.94-.94-2.06-.94 2.06-2.06.94zm-11 1L8.5 8.5l.94-2.06 2.06-.94-2.06-.94L8.5 2.5l-.94 2.06-2.06.94zm10 10l.94 2.06.94-2.06 2.06-.94-2.06-.94-.94-2.06-.94 2.06-2.06.94z\"/><path d=\"M17.41 7.96l-1.37-1.37c-.4-.4-.92-.59-1.43-.59-.52 0-1.04.2-1.43.59L10.3 9.45l-7.72 7.72c-.78.78-.78 2.05 0 2.83L4 21.41c.39.39.9.59 1.41.59.51 0 1.02-.2 1.41-.59l7.78-7.78 2.81-2.81c.8-.78.8-2.07 0-2.86zM5.41 20L4 18.59l7.72-7.72 1.47 1.35L5.41 20z\"/>\n",
              "  </svg>\n",
              "      </button>\n",
              "      \n",
              "  <style>\n",
              "    .colab-df-container {\n",
              "      display:flex;\n",
              "      flex-wrap:wrap;\n",
              "      gap: 12px;\n",
              "    }\n",
              "\n",
              "    .colab-df-convert {\n",
              "      background-color: #E8F0FE;\n",
              "      border: none;\n",
              "      border-radius: 50%;\n",
              "      cursor: pointer;\n",
              "      display: none;\n",
              "      fill: #1967D2;\n",
              "      height: 32px;\n",
              "      padding: 0 0 0 0;\n",
              "      width: 32px;\n",
              "    }\n",
              "\n",
              "    .colab-df-convert:hover {\n",
              "      background-color: #E2EBFA;\n",
              "      box-shadow: 0px 1px 2px rgba(60, 64, 67, 0.3), 0px 1px 3px 1px rgba(60, 64, 67, 0.15);\n",
              "      fill: #174EA6;\n",
              "    }\n",
              "\n",
              "    [theme=dark] .colab-df-convert {\n",
              "      background-color: #3B4455;\n",
              "      fill: #D2E3FC;\n",
              "    }\n",
              "\n",
              "    [theme=dark] .colab-df-convert:hover {\n",
              "      background-color: #434B5C;\n",
              "      box-shadow: 0px 1px 3px 1px rgba(0, 0, 0, 0.15);\n",
              "      filter: drop-shadow(0px 1px 2px rgba(0, 0, 0, 0.3));\n",
              "      fill: #FFFFFF;\n",
              "    }\n",
              "  </style>\n",
              "\n",
              "      <script>\n",
              "        const buttonEl =\n",
              "          document.querySelector('#df-9813f532-76e1-449e-b5c2-74ed32566cbb button.colab-df-convert');\n",
              "        buttonEl.style.display =\n",
              "          google.colab.kernel.accessAllowed ? 'block' : 'none';\n",
              "\n",
              "        async function convertToInteractive(key) {\n",
              "          const element = document.querySelector('#df-9813f532-76e1-449e-b5c2-74ed32566cbb');\n",
              "          const dataTable =\n",
              "            await google.colab.kernel.invokeFunction('convertToInteractive',\n",
              "                                                     [key], {});\n",
              "          if (!dataTable) return;\n",
              "\n",
              "          const docLinkHtml = 'Like what you see? Visit the ' +\n",
              "            '<a target=\"_blank\" href=https://colab.research.google.com/notebooks/data_table.ipynb>data table notebook</a>'\n",
              "            + ' to learn more about interactive tables.';\n",
              "          element.innerHTML = '';\n",
              "          dataTable['output_type'] = 'display_data';\n",
              "          await google.colab.output.renderOutput(dataTable, element);\n",
              "          const docLink = document.createElement('div');\n",
              "          docLink.innerHTML = docLinkHtml;\n",
              "          element.appendChild(docLink);\n",
              "        }\n",
              "      </script>\n",
              "    </div>\n",
              "  </div>\n",
              "  "
            ]
          },
          "metadata": {},
          "execution_count": 24
        }
      ]
    },
    {
      "cell_type": "code",
      "source": [
        "plt.figure(figsize=(5,7))\n",
        "plt.hist(batting_first['Margin'])\n",
        "plt.show()"
      ],
      "metadata": {
        "id": "elPL8YO_9J4G",
        "colab": {
          "base_uri": "https://localhost:8080/",
          "height": 428
        },
        "outputId": "cf88d2da-dfe2-47e1-8ae5-ef4cf6b05855"
      },
      "execution_count": null,
      "outputs": [
        {
          "output_type": "display_data",
          "data": {
            "text/plain": [
              "<Figure size 360x504 with 1 Axes>"
            ],
            "image/png": "[encoded data removed]"
          },
          "metadata": {
            "needs_background": "light"
          }
        }
      ]
    },
    {
      "cell_type": "code",
      "source": [
        "ipl['City'].value_counts()"
      ],
      "metadata": {
        "id": "Pq__5a9lA7hJ",
        "colab": {
          "base_uri": "https://localhost:8080/"
        },
        "outputId": "05257798-63fb-4248-ef61-8b0de9e67451"
      },
      "execution_count": null,
      "outputs": [
        {
          "output_type": "execute_result",
          "data": {
            "text/plain": [
              "Mumbai         48\n",
              "Pune           13\n",
              "Navi Mumbai     9\n",
              "Ahmedabad       2\n",
              "Kolkata         2\n",
              "Name: City, dtype: int64"
            ]
          },
          "metadata": {},
          "execution_count": 26
        }
      ]
    },
    {
      "cell_type": "code",
      "source": [
        "batting_second=ipl[ipl['WonBy']=='Wickets']\n",
        "result=batting_second.sort_values(by=['Margin'],ascending=False)\n",
        "result.head()"
      ],
      "metadata": {
        "id": "0LyvX2ZcZIax",
        "colab": {
          "base_uri": "https://localhost:8080/",
          "height": 548
        },
        "outputId": "8b89283f-6757-4bee-eed7-8da0b3b5de7a"
      },
      "execution_count": null,
      "outputs": [
        {
          "output_type": "execute_result",
          "data": {
            "text/plain": [
              "         ID         City        Date  Season MatchNumber  \\\n",
              "38  1304082       Mumbai  23-04-2022    2022          36   \n",
              "42  1304078       Mumbai  20-04-2022    2022          32   \n",
              "16  1304104  Navi Mumbai  11-05-2022    2022          58   \n",
              "26  1304094  Navi Mumbai  03-05-2022    2022          48   \n",
              "53  1304067       Mumbai  11-04-2022    2022          21   \n",
              "\n",
              "                          Team1                Team2  \\\n",
              "38  Royal Challengers Bangalore  Sunrisers Hyderabad   \n",
              "42                 Punjab Kings       Delhi Capitals   \n",
              "16             Rajasthan Royals       Delhi Capitals   \n",
              "26               Gujarat Titans         Punjab Kings   \n",
              "53               Gujarat Titans  Sunrisers Hyderabad   \n",
              "\n",
              "                                 Venue           TossWinner TossDecision  \\\n",
              "38           Brabourne Stadium, Mumbai  Sunrisers Hyderabad        field   \n",
              "42           Brabourne Stadium, Mumbai       Delhi Capitals        field   \n",
              "16  Dr DY Patil Sports Academy, Mumbai       Delhi Capitals        field   \n",
              "26  Dr DY Patil Sports Academy, Mumbai       Gujarat Titans          bat   \n",
              "53  Dr DY Patil Sports Academy, Mumbai  Sunrisers Hyderabad        field   \n",
              "\n",
              "   SuperOver          WinningTeam    WonBy  Margin Player_of_Match  \n",
              "38         N  Sunrisers Hyderabad  Wickets       9        M Jansen  \n",
              "42         N       Delhi Capitals  Wickets       9   Kuldeep Yadav  \n",
              "16         N       Delhi Capitals  Wickets       8        MR Marsh  \n",
              "26         N         Punjab Kings  Wickets       8        K Rabada  \n",
              "53         N  Sunrisers Hyderabad  Wickets       8   KS Williamson  "
            ],
            "text/html": [
              "\n",
              "  <div id=\"df-386a9394-c17e-4f64-95cf-fb41e47db2e8\">\n",
              "    <div class=\"colab-df-container\">\n",
              "      <div>\n",
              "<style scoped>\n",
              "    .dataframe tbody tr th:only-of-type {\n",
              "        vertical-align: middle;\n",
              "    }\n",
              "\n",
              "    .dataframe tbody tr th {\n",
              "        vertical-align: top;\n",
              "    }\n",
              "\n",
              "    .dataframe thead th {\n",
              "        text-align: right;\n",
              "    }\n",
              "</style>\n",
              "<table border=\"1\" class=\"dataframe\">\n",
              "  <thead>\n",
              "    <tr style=\"text-align: right;\">\n",
              "      <th></th>\n",
              "      <th>ID</th>\n",
              "      <th>City</th>\n",
              "      <th>Date</th>\n",
              "      <th>Season</th>\n",
              "      <th>MatchNumber</th>\n",
              "      <th>Team1</th>\n",
              "      <th>Team2</th>\n",
              "      <th>Venue</th>\n",
              "      <th>TossWinner</th>\n",
              "      <th>TossDecision</th>\n",
              "      <th>SuperOver</th>\n",
              "      <th>WinningTeam</th>\n",
              "      <th>WonBy</th>\n",
              "      <th>Margin</th>\n",
              "      <th>Player_of_Match</th>\n",
              "    </tr>\n",
              "  </thead>\n",
              "  <tbody>\n",
              "    <tr>\n",
              "      <th>38</th>\n",
              "      <td>1304082</td>\n",
              "      <td>Mumbai</td>\n",
              "      <td>23-04-2022</td>\n",
              "      <td>2022</td>\n",
              "      <td>36</td>\n",
              "      <td>Royal Challengers Bangalore</td>\n",
              "      <td>Sunrisers Hyderabad</td>\n",
              "      <td>Brabourne Stadium, Mumbai</td>\n",
              "      <td>Sunrisers Hyderabad</td>\n",
              "      <td>field</td>\n",
              "      <td>N</td>\n",
              "      <td>Sunrisers Hyderabad</td>\n",
              "      <td>Wickets</td>\n",
              "      <td>9</td>\n",
              "      <td>M Jansen</td>\n",
              "    </tr>\n",
              "    <tr>\n",
              "      <th>42</th>\n",
              "      <td>1304078</td>\n",
              "      <td>Mumbai</td>\n",
              "      <td>20-04-2022</td>\n",
              "      <td>2022</td>\n",
              "      <td>32</td>\n",
              "      <td>Punjab Kings</td>\n",
              "      <td>Delhi Capitals</td>\n",
              "      <td>Brabourne Stadium, Mumbai</td>\n",
              "      <td>Delhi Capitals</td>\n",
              "      <td>field</td>\n",
              "      <td>N</td>\n",
              "      <td>Delhi Capitals</td>\n",
              "      <td>Wickets</td>\n",
              "      <td>9</td>\n",
              "      <td>Kuldeep Yadav</td>\n",
              "    </tr>\n",
              "    <tr>\n",
              "      <th>16</th>\n",
              "      <td>1304104</td>\n",
              "      <td>Navi Mumbai</td>\n",
              "      <td>11-05-2022</td>\n",
              "      <td>2022</td>\n",
              "      <td>58</td>\n",
              "      <td>Rajasthan Royals</td>\n",
              "      <td>Delhi Capitals</td>\n",
              "      <td>Dr DY Patil Sports Academy, Mumbai</td>\n",
              "      <td>Delhi Capitals</td>\n",
              "      <td>field</td>\n",
              "      <td>N</td>\n",
              "      <td>Delhi Capitals</td>\n",
              "      <td>Wickets</td>\n",
              "      <td>8</td>\n",
              "      <td>MR Marsh</td>\n",
              "    </tr>\n",
              "    <tr>\n",
              "      <th>26</th>\n",
              "      <td>1304094</td>\n",
              "      <td>Navi Mumbai</td>\n",
              "      <td>03-05-2022</td>\n",
              "      <td>2022</td>\n",
              "      <td>48</td>\n",
              "      <td>Gujarat Titans</td>\n",
              "      <td>Punjab Kings</td>\n",
              "      <td>Dr DY Patil Sports Academy, Mumbai</td>\n",
              "      <td>Gujarat Titans</td>\n",
              "      <td>bat</td>\n",
              "      <td>N</td>\n",
              "      <td>Punjab Kings</td>\n",
              "      <td>Wickets</td>\n",
              "      <td>8</td>\n",
              "      <td>K Rabada</td>\n",
              "    </tr>\n",
              "    <tr>\n",
              "      <th>53</th>\n",
              "      <td>1304067</td>\n",
              "      <td>Mumbai</td>\n",
              "      <td>11-04-2022</td>\n",
              "      <td>2022</td>\n",
              "      <td>21</td>\n",
              "      <td>Gujarat Titans</td>\n",
              "      <td>Sunrisers Hyderabad</td>\n",
              "      <td>Dr DY Patil Sports Academy, Mumbai</td>\n",
              "      <td>Sunrisers Hyderabad</td>\n",
              "      <td>field</td>\n",
              "      <td>N</td>\n",
              "      <td>Sunrisers Hyderabad</td>\n",
              "      <td>Wickets</td>\n",
              "      <td>8</td>\n",
              "      <td>KS Williamson</td>\n",
              "    </tr>\n",
              "  </tbody>\n",
              "</table>\n",
              "</div>\n",
              "      <button class=\"colab-df-convert\" onclick=\"convertToInteractive('df-386a9394-c17e-4f64-95cf-fb41e47db2e8')\"\n",
              "              title=\"Convert this dataframe to an interactive table.\"\n",
              "              style=\"display:none;\">\n",
              "        \n",
              "  <svg xmlns=\"http://www.w3.org/2000/svg\" height=\"24px\"viewBox=\"0 0 24 24\"\n",
              "       width=\"24px\">\n",
              "    <path d=\"M0 0h24v24H0V0z\" fill=\"none\"/>\n",
              "    <path d=\"M18.56 5.44l.94 2.06.94-2.06 2.06-.94-2.06-.94-.94-2.06-.94 2.06-2.06.94zm-11 1L8.5 8.5l.94-2.06 2.06-.94-2.06-.94L8.5 2.5l-.94 2.06-2.06.94zm10 10l.94 2.06.94-2.06 2.06-.94-2.06-.94-.94-2.06-.94 2.06-2.06.94z\"/><path d=\"M17.41 7.96l-1.37-1.37c-.4-.4-.92-.59-1.43-.59-.52 0-1.04.2-1.43.59L10.3 9.45l-7.72 7.72c-.78.78-.78 2.05 0 2.83L4 21.41c.39.39.9.59 1.41.59.51 0 1.02-.2 1.41-.59l7.78-7.78 2.81-2.81c.8-.78.8-2.07 0-2.86zM5.41 20L4 18.59l7.72-7.72 1.47 1.35L5.41 20z\"/>\n",
              "  </svg>\n",
              "      </button>\n",
              "      \n",
              "  <style>\n",
              "    .colab-df-container {\n",
              "      display:flex;\n",
              "      flex-wrap:wrap;\n",
              "      gap: 12px;\n",
              "    }\n",
              "\n",
              "    .colab-df-convert {\n",
              "      background-color: #E8F0FE;\n",
              "      border: none;\n",
              "      border-radius: 50%;\n",
              "      cursor: pointer;\n",
              "      display: none;\n",
              "      fill: #1967D2;\n",
              "      height: 32px;\n",
              "      padding: 0 0 0 0;\n",
              "      width: 32px;\n",
              "    }\n",
              "\n",
              "    .colab-df-convert:hover {\n",
              "      background-color: #E2EBFA;\n",
              "      box-shadow: 0px 1px 2px rgba(60, 64, 67, 0.3), 0px 1px 3px 1px rgba(60, 64, 67, 0.15);\n",
              "      fill: #174EA6;\n",
              "    }\n",
              "\n",
              "    [theme=dark] .colab-df-convert {\n",
              "      background-color: #3B4455;\n",
              "      fill: #D2E3FC;\n",
              "    }\n",
              "\n",
              "    [theme=dark] .colab-df-convert:hover {\n",
              "      background-color: #434B5C;\n",
              "      box-shadow: 0px 1px 3px 1px rgba(0, 0, 0, 0.15);\n",
              "      filter: drop-shadow(0px 1px 2px rgba(0, 0, 0, 0.3));\n",
              "      fill: #FFFFFF;\n",
              "    }\n",
              "  </style>\n",
              "\n",
              "      <script>\n",
              "        const buttonEl =\n",
              "          document.querySelector('#df-386a9394-c17e-4f64-95cf-fb41e47db2e8 button.colab-df-convert');\n",
              "        buttonEl.style.display =\n",
              "          google.colab.kernel.accessAllowed ? 'block' : 'none';\n",
              "\n",
              "        async function convertToInteractive(key) {\n",
              "          const element = document.querySelector('#df-386a9394-c17e-4f64-95cf-fb41e47db2e8');\n",
              "          const dataTable =\n",
              "            await google.colab.kernel.invokeFunction('convertToInteractive',\n",
              "                                                     [key], {});\n",
              "          if (!dataTable) return;\n",
              "\n",
              "          const docLinkHtml = 'Like what you see? Visit the ' +\n",
              "            '<a target=\"_blank\" href=https://colab.research.google.com/notebooks/data_table.ipynb>data table notebook</a>'\n",
              "            + ' to learn more about interactive tables.';\n",
              "          element.innerHTML = '';\n",
              "          dataTable['output_type'] = 'display_data';\n",
              "          await google.colab.output.renderOutput(dataTable, element);\n",
              "          const docLink = document.createElement('div');\n",
              "          docLink.innerHTML = docLinkHtml;\n",
              "          element.appendChild(docLink);\n",
              "        }\n",
              "      </script>\n",
              "    </div>\n",
              "  </div>\n",
              "  "
            ]
          },
          "metadata": {},
          "execution_count": 28
        }
      ]
    },
    {
      "cell_type": "code",
      "source": [
        "plt.figure(figsize=(5,7))\n",
        "plt.hist(batting_second['Margin'])\n",
        "plt.show()"
      ],
      "metadata": {
        "id": "VJb1i5R6aRGA",
        "colab": {
          "base_uri": "https://localhost:8080/",
          "height": 428
        },
        "outputId": "6810c620-5bf4-41f0-bb35-e22c1f6f82b4"
      },
      "execution_count": null,
      "outputs": [
        {
          "output_type": "display_data",
          "data": {
            "text/plain": [
              "<Figure size 360x504 with 1 Axes>"
            ],
            "image/png": "[encoded data removed]"
          },
          "metadata": {
            "needs_background": "light"
          }
        }
      ]
    },
    {
      "cell_type": "code",
      "source": [
        "batting_first['WinningTeam'].value_counts()"
      ],
      "metadata": {
        "id": "1TSvtBylajve",
        "colab": {
          "base_uri": "https://localhost:8080/"
        },
        "outputId": "18a758aa-3aab-48b5-9593-b02c9d8591e1"
      },
      "execution_count": null,
      "outputs": [
        {
          "output_type": "execute_result",
          "data": {
            "text/plain": [
              "Lucknow Super Giants           7\n",
              "Rajasthan Royals               7\n",
              "Royal Challengers Bangalore    5\n",
              "Punjab Kings                   4\n",
              "Gujarat Titans                 4\n",
              "Delhi Capitals                 3\n",
              "Chennai Super Kings            3\n",
              "Kolkata Knight Riders          2\n",
              "Sunrisers Hyderabad            1\n",
              "Mumbai Indians                 1\n",
              "Name: WinningTeam, dtype: int64"
            ]
          },
          "metadata": {},
          "execution_count": 30
        }
      ]
    },
    {
      "cell_type": "code",
      "source": [
        "ipl[ipl['MatchNumber']=='Final']"
      ],
      "metadata": {
        "id": "rD2G_GDFbImh",
        "colab": {
          "base_uri": "https://localhost:8080/",
          "height": 177
        },
        "outputId": "240381b0-6c57-4012-c29d-8dbe718522f6"
      },
      "execution_count": null,
      "outputs": [
        {
          "output_type": "execute_result",
          "data": {
            "text/plain": [
              "        ID       City        Date  Season MatchNumber             Team1  \\\n",
              "0  1312200  Ahmedabad  29-05-2022    2022       Final  Rajasthan Royals   \n",
              "\n",
              "            Team2                             Venue        TossWinner  \\\n",
              "0  Gujarat Titans  Narendra Modi Stadium, Ahmedabad  Rajasthan Royals   \n",
              "\n",
              "  TossDecision SuperOver     WinningTeam    WonBy  Margin Player_of_Match  \n",
              "0          bat         N  Gujarat Titans  Wickets       7       HH Pandya  "
            ],
            "text/html": [
              "\n",
              "  <div id=\"df-a60c5308-3b4f-42a3-b0a7-961fa3b0952e\">\n",
              "    <div class=\"colab-df-container\">\n",
              "      <div>\n",
              "<style scoped>\n",
              "    .dataframe tbody tr th:only-of-type {\n",
              "        vertical-align: middle;\n",
              "    }\n",
              "\n",
              "    .dataframe tbody tr th {\n",
              "        vertical-align: top;\n",
              "    }\n",
              "\n",
              "    .dataframe thead th {\n",
              "        text-align: right;\n",
              "    }\n",
              "</style>\n",
              "<table border=\"1\" class=\"dataframe\">\n",
              "  <thead>\n",
              "    <tr style=\"text-align: right;\">\n",
              "      <th></th>\n",
              "      <th>ID</th>\n",
              "      <th>City</th>\n",
              "      <th>Date</th>\n",
              "      <th>Season</th>\n",
              "      <th>MatchNumber</th>\n",
              "      <th>Team1</th>\n",
              "      <th>Team2</th>\n",
              "      <th>Venue</th>\n",
              "      <th>TossWinner</th>\n",
              "      <th>TossDecision</th>\n",
              "      <th>SuperOver</th>\n",
              "      <th>WinningTeam</th>\n",
              "      <th>WonBy</th>\n",
              "      <th>Margin</th>\n",
              "      <th>Player_of_Match</th>\n",
              "    </tr>\n",
              "  </thead>\n",
              "  <tbody>\n",
              "    <tr>\n",
              "      <th>0</th>\n",
              "      <td>1312200</td>\n",
              "      <td>Ahmedabad</td>\n",
              "      <td>29-05-2022</td>\n",
              "      <td>2022</td>\n",
              "      <td>Final</td>\n",
              "      <td>Rajasthan Royals</td>\n",
              "      <td>Gujarat Titans</td>\n",
              "      <td>Narendra Modi Stadium, Ahmedabad</td>\n",
              "      <td>Rajasthan Royals</td>\n",
              "      <td>bat</td>\n",
              "      <td>N</td>\n",
              "      <td>Gujarat Titans</td>\n",
              "      <td>Wickets</td>\n",
              "      <td>7</td>\n",
              "      <td>HH Pandya</td>\n",
              "    </tr>\n",
              "  </tbody>\n",
              "</table>\n",
              "</div>\n",
              "      <button class=\"colab-df-convert\" onclick=\"convertToInteractive('df-a60c5308-3b4f-42a3-b0a7-961fa3b0952e')\"\n",
              "              title=\"Convert this dataframe to an interactive table.\"\n",
              "              style=\"display:none;\">\n",
              "        \n",
              "  <svg xmlns=\"http://www.w3.org/2000/svg\" height=\"24px\"viewBox=\"0 0 24 24\"\n",
              "       width=\"24px\">\n",
              "    <path d=\"M0 0h24v24H0V0z\" fill=\"none\"/>\n",
              "    <path d=\"M18.56 5.44l.94 2.06.94-2.06 2.06-.94-2.06-.94-.94-2.06-.94 2.06-2.06.94zm-11 1L8.5 8.5l.94-2.06 2.06-.94-2.06-.94L8.5 2.5l-.94 2.06-2.06.94zm10 10l.94 2.06.94-2.06 2.06-.94-2.06-.94-.94-2.06-.94 2.06-2.06.94z\"/><path d=\"M17.41 7.96l-1.37-1.37c-.4-.4-.92-.59-1.43-.59-.52 0-1.04.2-1.43.59L10.3 9.45l-7.72 7.72c-.78.78-.78 2.05 0 2.83L4 21.41c.39.39.9.59 1.41.59.51 0 1.02-.2 1.41-.59l7.78-7.78 2.81-2.81c.8-.78.8-2.07 0-2.86zM5.41 20L4 18.59l7.72-7.72 1.47 1.35L5.41 20z\"/>\n",
              "  </svg>\n",
              "      </button>\n",
              "      \n",
              "  <style>\n",
              "    .colab-df-container {\n",
              "      display:flex;\n",
              "      flex-wrap:wrap;\n",
              "      gap: 12px;\n",
              "    }\n",
              "\n",
              "    .colab-df-convert {\n",
              "      background-color: #E8F0FE;\n",
              "      border: none;\n",
              "      border-radius: 50%;\n",
              "      cursor: pointer;\n",
              "      display: none;\n",
              "      fill: #1967D2;\n",
              "      height: 32px;\n",
              "      padding: 0 0 0 0;\n",
              "      width: 32px;\n",
              "    }\n",
              "\n",
              "    .colab-df-convert:hover {\n",
              "      background-color: #E2EBFA;\n",
              "      box-shadow: 0px 1px 2px rgba(60, 64, 67, 0.3), 0px 1px 3px 1px rgba(60, 64, 67, 0.15);\n",
              "      fill: #174EA6;\n",
              "    }\n",
              "\n",
              "    [theme=dark] .colab-df-convert {\n",
              "      background-color: #3B4455;\n",
              "      fill: #D2E3FC;\n",
              "    }\n",
              "\n",
              "    [theme=dark] .colab-df-convert:hover {\n",
              "      background-color: #434B5C;\n",
              "      box-shadow: 0px 1px 3px 1px rgba(0, 0, 0, 0.15);\n",
              "      filter: drop-shadow(0px 1px 2px rgba(0, 0, 0, 0.3));\n",
              "      fill: #FFFFFF;\n",
              "    }\n",
              "  </style>\n",
              "\n",
              "      <script>\n",
              "        const buttonEl =\n",
              "          document.querySelector('#df-a60c5308-3b4f-42a3-b0a7-961fa3b0952e button.colab-df-convert');\n",
              "        buttonEl.style.display =\n",
              "          google.colab.kernel.accessAllowed ? 'block' : 'none';\n",
              "\n",
              "        async function convertToInteractive(key) {\n",
              "          const element = document.querySelector('#df-a60c5308-3b4f-42a3-b0a7-961fa3b0952e');\n",
              "          const dataTable =\n",
              "            await google.colab.kernel.invokeFunction('convertToInteractive',\n",
              "                                                     [key], {});\n",
              "          if (!dataTable) return;\n",
              "\n",
              "          const docLinkHtml = 'Like what you see? Visit the ' +\n",
              "            '<a target=\"_blank\" href=https://colab.research.google.com/notebooks/data_table.ipynb>data table notebook</a>'\n",
              "            + ' to learn more about interactive tables.';\n",
              "          element.innerHTML = '';\n",
              "          dataTable['output_type'] = 'display_data';\n",
              "          await google.colab.output.renderOutput(dataTable, element);\n",
              "          const docLink = document.createElement('div');\n",
              "          docLink.innerHTML = docLinkHtml;\n",
              "          element.appendChild(docLink);\n",
              "        }\n",
              "      </script>\n",
              "    </div>\n",
              "  </div>\n",
              "  "
            ]
          },
          "metadata": {},
          "execution_count": 31
        }
      ]
    },
    {
      "cell_type": "code",
      "source": [
        "final=ipl[ipl['MatchNumber']=='Final']\n",
        "final['WinningTeam']"
      ],
      "metadata": {
        "id": "SP734-XlbqEL",
        "colab": {
          "base_uri": "https://localhost:8080/"
        },
        "outputId": "9f2bfa6e-2e02-41c6-cf9b-d88fabc30283"
      },
      "execution_count": null,
      "outputs": [
        {
          "output_type": "execute_result",
          "data": {
            "text/plain": [
              "0    Gujarat Titans\n",
              "Name: WinningTeam, dtype: object"
            ]
          },
          "metadata": {},
          "execution_count": 32
        }
      ]
    },
    {
      "cell_type": "code",
      "source": [
        "plt.figure(figsize=(15,7))\n",
        "plt.bar(batting_first['WinningTeam'].value_counts().keys()[0:5],batting_first['WinningTeam'].value_counts()[0:5])\n",
        "plt.show()"
      ],
      "metadata": {
        "id": "taCPWrLwcUSz",
        "colab": {
          "base_uri": "https://localhost:8080/",
          "height": 428
        },
        "outputId": "b6ee2908-3255-44f1-b5bd-1bff31c0717f"
      },
      "execution_count": null,
      "outputs": [
        {
          "output_type": "display_data",
          "data": {
            "text/plain": [
              "<Figure size 1080x504 with 1 Axes>"
            ],
            "image/png": "[encoded data removed]"
          },
          "metadata": {
            "needs_background": "light"
          }
        }
      ]
    },
    {
      "cell_type": "code",
      "source": [
        "plt.figure(figsize=(7,7))\n",
        "print(batting_first['WinningTeam'].value_counts())\n",
        "plt.pie(batting_first['WinningTeam'].value_counts(),labels=list(batting_first['WinningTeam'].value_counts().keys()),autopct='%0.1f%%')\n",
        "plt.show()"
      ],
      "metadata": {
        "id": "qzAgv75cdsJx",
        "colab": {
          "base_uri": "https://localhost:8080/",
          "height": 602
        },
        "outputId": "0f64bc23-49c9-4dea-dfdb-77c49b4a02b6"
      },
      "execution_count": null,
      "outputs": [
        {
          "output_type": "stream",
          "name": "stdout",
          "text": [
            "Lucknow Super Giants           7\n",
            "Rajasthan Royals               7\n",
            "Royal Challengers Bangalore    5\n",
            "Punjab Kings                   4\n",
            "Gujarat Titans                 4\n",
            "Delhi Capitals                 3\n",
            "Chennai Super Kings            3\n",
            "Kolkata Knight Riders          2\n",
            "Sunrisers Hyderabad            1\n",
            "Mumbai Indians                 1\n",
            "Name: WinningTeam, dtype: int64\n"
          ]
        },
        {
          "output_type": "display_data",
          "data": {
            "text/plain": [
              "<Figure size 504x504 with 1 Axes>"
            ],
            "image/png": "[encoded data removed]"
          },
          "metadata": {}
        }
      ]
    },
    {
      "cell_type": "code",
      "source": [
        "import numpy as np\n",
        "np.sum(ipl['TossWinner']==ipl['WinningTeam'])"
      ],
      "metadata": {
        "colab": {
          "base_uri": "https://localhost:8080/"
        },
        "id": "Y1D8xe2BhPeB",
        "outputId": "829cbedf-2966-4ca7-a310-365f71e5b8eb"
      },
      "execution_count": null,
      "outputs": [
        {
          "output_type": "execute_result",
          "data": {
            "text/plain": [
              "36"
            ]
          },
          "metadata": {},
          "execution_count": 39
        }
      ]
    },
    {
      "cell_type": "code",
      "source": [
        "ipl['Season'].value_counts()"
      ],
      "metadata": {
        "id": "KO2UwuL0hzaa"
      },
      "execution_count": null,
      "outputs": []
    },
    {
      "cell_type": "code",
      "source": [
        "np.sum(ipl['TossWinner']==ipl['WinningTeam'])/74"
      ],
      "metadata": {
        "id": "bynTBP1xh9Qr",
        "colab": {
          "base_uri": "https://localhost:8080/"
        },
        "outputId": "84f91ff8-e91a-4d91-c52c-45f8740a9567"
      },
      "execution_count": null,
      "outputs": [
        {
          "output_type": "execute_result",
          "data": {
            "text/plain": [
              "0.4864864864864865"
            ]
          },
          "metadata": {},
          "execution_count": 40
        }
      ]
    }
  ]
}